{
 "cells": [
  {
   "cell_type": "markdown",
   "id": "33036cc5",
   "metadata": {},
   "source": [
    "# Basic Architecture for 1D Convolutional Neural Networks"
   ]
  },
  {
   "cell_type": "markdown",
   "id": "3dd3bfbc",
   "metadata": {},
   "source": [
    "---\n",
    "\n",
    "## Introduction\n",
    "\n",
    "Convolution Neural Networks (CNNs) are a class of deep learning models specifically designed for processing data with a grid-like topology, such as images. CNNs have revolutionized the field of computer vision by achieving state-of-the-art results in tasks like image classification, object detection, and segmentation.\n",
    "\n",
    "The key idea behind CNNs is the use of convolutional layers, which apply filters to local regions of the input data to extract hierarchical features. These layers are typically followed by pooling layers that reduce the spatial dimensions, making the network more efficient and robust to spatial variations.\n",
    "\n",
    "CNNs are composed of several types of layers:\n",
    "- **Convolutional Layers:** Extract local features using learnable filters.\n",
    "- **Activation Functions:** Introduce non-linearity (commonly ReLU).\n",
    "- **Pooling Layers:** Downsample feature maps to reduce computation and control overfitting.\n",
    "- **Fully Connected Layers:** Combine features for final classification or regression tasks.\n",
    "\n",
    "Due to their ability to automatically learn spatial hierarchies of features, CNNs are widely used in image and video analysis, medical image processing, and many other domains.\n",
    "\n",
    "![CNN autoencoder](https://www.ibm.com/content/dam/connectedassets-adobe-cms/worldwide-content/creative-assets/s-migr/ul/g/b6/f4/variational-autoencoder-neural-network.component.xl.ts=1744887318491.png/content/adobe-cms/us/en/think/topics/latent-space/jcr:content/root/table_of_contents/body-article-8/image)"
   ]
  },
  {
   "cell_type": "markdown",
   "id": "0b99905f",
   "metadata": {},
   "source": [
    "Below you can reconstruct a model architecture using Netron package.\n",
    "Netron notation works like this:\n",
    "\n",
    "`W <C_out×C_in×K>`\n",
    "* **C\\_out**: Number of filters (output channels).\n",
    "* **C\\_in**: Number of input channels.\n",
    "* **K**: Kernel size (window length).\n",
    "\n",
    "Example: `W <16×1×5>` indicates 16 filters, each looking at 1 channel with a window of length 5."
   ]
  },
  {
   "cell_type": "code",
   "execution_count": 34,
   "id": "bfc353d2",
   "metadata": {},
   "outputs": [
    {
     "name": "stdout",
     "output_type": "stream",
     "text": [
      "Serving '/Users/frasera/Ricerca/PyISV/models/best_autoencoder_model.onnx' at http://localhost:21103\n"
     ]
    },
    {
     "data": {
      "text/plain": [
       "('localhost', 21103)"
      ]
     },
     "execution_count": 34,
     "metadata": {},
     "output_type": "execute_result"
    }
   ],
   "source": [
    "SCRIPT_DIR = os.getcwd()\n",
    "PYISV_ROOT = os.path.abspath(os.path.join(SCRIPT_DIR, '..'))\n",
    "\n",
    "models_dir = os.path.join(PYISV_ROOT, 'models')\n",
    "\n",
    "# Visualize with Netron\n",
    "# Can be installed via pip: pip install netron\n",
    "# or conda: conda install -c conda-forge netron\n",
    "import netron\n",
    "\n",
    "onnx_path = f\"{models_dir}/best_autoencoder_model.onnx\"\n",
    "netron.start(onnx_path)\n",
    "# This will open a browser window with the model visualization."
   ]
  },
  {
   "cell_type": "markdown",
   "id": "50faafb2",
   "metadata": {},
   "source": [
    "---\n",
    "\n",
    "## Channels, Biases, and Filters"
   ]
  },
  {
   "cell_type": "markdown",
   "id": "e52ee927",
   "metadata": {},
   "source": [
    "\n",
    "### Input Tensor Shapes\n",
    "\n",
    "In PyTorch, a 1D convolutional layer expects input tensors of shape:\n",
    "\n",
    "```\n",
    "(batch_size, in_channels, signal_length)\n",
    "```\n",
    "\n",
    "* **batch\\_size**: Number of samples processed in parallel.\n",
    "* **in\\_channels**: Number of feature maps per sample (channels).\n",
    "* **signal\\_length**: Number of discrete steps per sample (e.g., time steps or histogram bins).\n",
    "\n",
    "Higher dimensional inputs would include signal_height, and so on.\n",
    "\n",
    "**Example:** A batch of 32 KDE feature vectors with one channel and 100 bins has shape `(32, 1, 100)`."
   ]
  },
  {
   "cell_type": "code",
   "execution_count": 31,
   "id": "7332572b",
   "metadata": {},
   "outputs": [
    {
     "name": "stdout",
     "output_type": "stream",
     "text": [
      "Input shape: torch.Size([32, 1, 100])\n"
     ]
    }
   ],
   "source": [
    "# Example: batch of 32 KDE feature vectors, 1 channel, 100 bins\n",
    "import torch\n",
    "batch_size = 32\n",
    "in_channels = 1\n",
    "signal_length = 100\n",
    "x = torch.randn(batch_size, in_channels, signal_length)\n",
    "print(\"Input shape:\", x.shape)  # Output: torch.Size([32, 1, 100])"
   ]
  },
  {
   "cell_type": "markdown",
   "id": "e139a80a",
   "metadata": {},
   "source": [
    "### Channels vs Spatial Dimensions\n",
    "\n",
    "* **Channels** represent parallel feature sequences (different maps) stacked along the channel axis, each learned by a separate filter.\n",
    "* **Spatial dimensions** (length, for 1D) represent the position or order in the input signal that filters slide over.\n",
    "\n",
    "> **Note:** Visualization tools like Netron may display 1D data as an image of size `1×1×signal_length`, treating bins as channels. In practice for Conv1d, interpret `(in_channels, signal_length)` directly."
   ]
  },
  {
   "cell_type": "markdown",
   "id": "f2e25c9e",
   "metadata": {},
   "source": [
    "\n",
    "\n",
    "### Convolutional Filters: Shapes and Parameters\n",
    "\n",
    "A Conv1d layer is defined by:\n",
    "\n",
    "```python\n",
    "nn.Conv1d(in_channels=C_in,\n",
    "          out_channels=C_out,\n",
    "          kernel_size=K)\n",
    "```\n",
    "\n",
    "* **C\\_in**: Number of input channels.\n",
    "* **C\\_out**: Number of filters, and thus output channels.\n",
    "* **K**: Kernel size—i.e., the length of the sliding window on the input signal.\n",
    "\n",
    "The weight tensor has shape:\n",
    "\n",
    "```\n",
    "(C_out, C_in, K)\n",
    "```\n",
    "\n",
    "and the bias tensor (if used) has shape:\n",
    "\n",
    "```\n",
    "(C_out,)\n",
    "```\n",
    "\n",
    "> **Kernel window example:** If `kernel_size = 3`, each filter examines 3 consecutive steps in the signal (e.g., bins 5–7) at each position.\n",
    "\n",
    "* The layer contains `C_out` filters, each with its own weights and bias.\n",
    "* All filters scan the full input in parallel, producing `C_out` feature maps.\n",
    "* These feature maps are stacked along the output channel axis, yielding an output tensor of shape `(batch_size, C_out, L_out)`.\n",
    "* Each filter has one bias scalar added to its output at every position:\n",
    "  $\\text{output} = \\text{activation}(w \\cdot x + b)$\n",
    "* Bias allows the activation function to shift, improving the model's flexibility.\n",
    "* There are `C_out` biases in total."
   ]
  },
  {
   "cell_type": "code",
   "execution_count": 32,
   "id": "a6c0ee20",
   "metadata": {},
   "outputs": [
    {
     "name": "stdout",
     "output_type": "stream",
     "text": [
      "Weight shape: torch.Size([16, 1, 5])\n",
      "Bias shape: torch.Size([16])\n"
     ]
    }
   ],
   "source": [
    "import torch.nn as nn\n",
    "# Define a Conv1d layer\n",
    "conv = nn.Conv1d(in_channels=1, out_channels=16, kernel_size=5)\n",
    "print(\"Weight shape:\", conv.weight.shape)  # torch.Size([16, 1, 5])\n",
    "print(\"Bias shape:\", conv.bias.shape)      # torch.Size([16])"
   ]
  },
  {
   "cell_type": "markdown",
   "id": "75aeb046",
   "metadata": {},
   "source": [
    "### Output Shape\n",
    "\n",
    "For input length `L_in`, kernel size `K`, stride `S` (default 1), and no padding, the output length is:\n",
    "```\n",
    "L_out = floor((L_in - K) / S) + 1\n",
    "```\n",
    "So the full output tensor is shaped:\n",
    "```\n",
    "(batch_size, C_out, L_out)\n",
    "```"
   ]
  },
  {
   "cell_type": "code",
   "execution_count": 33,
   "id": "5eb300ac",
   "metadata": {},
   "outputs": [
    {
     "name": "stdout",
     "output_type": "stream",
     "text": [
      "Output shape: torch.Size([32, 16, 96])\n"
     ]
    }
   ],
   "source": [
    "import torch\n",
    "import torch.nn as nn\n",
    "# Input: batch_size=32, in_channels=1, signal_length=100\n",
    "x = torch.randn(32, 1, 100)\n",
    "conv = nn.Conv1d(in_channels=1, out_channels=16, kernel_size=5, stride=1, padding=0)\n",
    "y = conv(x)\n",
    "print(\"Output shape:\", y.shape)  # torch.Size([32, 16, 96])"
   ]
  },
  {
   "cell_type": "markdown",
   "id": "edde531b",
   "metadata": {},
   "source": [
    "![GIF filters](https://www.cs.cmu.edu/~bhiksha/courses/deeplearning/Spring.2019/archive-f19/www-bak11-22-2019/document/note/hwnotes/hw2/images/image13.gif)"
   ]
  },
  {
   "cell_type": "markdown",
   "id": "e092fa16",
   "metadata": {},
   "source": [
    "--- \n",
    "\n",
    "## Activation Functions and Pooling\n",
    "\n",
    "\n",
    "After each convolution operation in a CNN, the result typically passes through an **activation function** to introduce non-linearity, and then optionally through a **pooling layer** to reduce the signal length and focus on important features.\n",
    "\n",
    "This section explains the purpose, types, and behavior of activation functions and pooling layers in the context of 1D convolutional neural networks."
   ]
  },
  {
   "cell_type": "markdown",
   "id": "728c9777",
   "metadata": {},
   "source": [
    "### What is an Activation Function?\n",
    "\n",
    "An activation function transforms the output of a convolution (or any linear layer) to make the network capable of learning **non-linear relationships** in the data. Without activations, a neural network would behave like a linear regression model regardless of its depth.\n",
    "\n",
    "Activations operate **element-wise** on the output of each filter:\n",
    "\n",
    "```python\n",
    "x = conv_output  # shape: (batch_size, channels, length)\n",
    "x = activation_fn(x)\n",
    "```\n",
    "\n",
    "Each position in each feature map is transformed independently.\n",
    "\n",
    "### Common Activation Functions\n",
    "\n",
    "| Name       | Formula                            | Purpose / Effect                         |\n",
    "|------------|-------------------------------------|------------------------------------------|\n",
    "| ReLU       | `f(x) = max(0, x)`                  | Keeps positive values, zeroes out others |\n",
    "| Leaky ReLU | `f(x) = x if x > 0 else αx`         | Allows a small gradient when x < 0       |\n",
    "| Tanh       | `f(x) = (e^x - e^-x) / (e^x + e^-x)` | Squashes input to [-1, 1]                |\n",
    "| Sigmoid    | `f(x) = 1 / (1 + e^-x)`             | Squashes input to [0, 1]                 |\n",
    "\n",
    "![Activation functions](https://images.prismic.io/encord/96630d33-5206-4c76-84f9-8b57aabee7c1_CNN+2.png?auto=compress,format)\n",
    "\n",
    "> **ReLU** is the most widely used in modern CNNs due to its simplicity and efficiency in training."
   ]
  },
  {
   "cell_type": "markdown",
   "id": "3b734aa3",
   "metadata": {},
   "source": [
    "### Fully connected layer after Activation\n",
    "\n",
    "After applying an activation function, it is common to use a fully connected (dense) layer such as `nn.Linear`. This layer mixes information across all features (or channels) and enables the network to learn more abstract, global representations. In 1D CNNs, this is typically done after flattening the output of the convolutional and pooling layers, before the final prediction or embedding.\n",
    "\n",
    "- **Convolutional layers** extract local features.\n",
    "- **Activation functions** introduce non-linearity.\n",
    "- **Linear (fully connected) layers** combine features globally and enable the network to learn complex relationships.\n",
    "\n",
    "This combination is essential for tasks like classification, regression, or learning embeddings."
   ]
  },
  {
   "cell_type": "code",
   "execution_count": 44,
   "id": "05d7e3ff",
   "metadata": {},
   "outputs": [
    {
     "name": "stdout",
     "output_type": "stream",
     "text": [
      "After ReLU: torch.Size([8, 8, 48])\n",
      "After Tanh: torch.Size([8, 8, 48])\n",
      "After Linear: torch.Size([8, 16])\n"
     ]
    }
   ],
   "source": [
    "# Example: Applying activation functions after Conv1d\n",
    "import torch\n",
    "import torch.nn as nn\n",
    "\n",
    "x = torch.randn(8, 4, 50)  # (batch_size, channels, length)\n",
    "conv = nn.Conv1d(4, 8, kernel_size=3)\n",
    "out = conv(x)\n",
    "\n",
    "# ReLU activation\n",
    "relu = nn.ReLU()\n",
    "out_relu = relu(out)\n",
    "print('After ReLU:', out_relu.shape)\n",
    "\n",
    "# Tanh activation\n",
    "tanh = nn.Tanh()\n",
    "out_tanh = tanh(out)\n",
    "print('After Tanh:', out_tanh.shape)\n",
    "\n",
    "# Using nn.Linear after activation\n",
    "# Suppose we want to map the features to a new space after flattening\n",
    "out_flat = out_relu.view(out_relu.size(0), -1)  # Flatten to (batch_size, features)\n",
    "linear = nn.Linear(out_flat.size(1), 16)  # Map to 16 features\n",
    "out_linear = linear(out_flat)\n",
    "print('After Linear:', out_linear.shape)  # (batch_size, 16)\n",
    "\n",
    "# This is typical before a final output or embedding layer in a CNN pipeline"
   ]
  },
  {
   "cell_type": "markdown",
   "id": "054d85de",
   "metadata": {},
   "source": [
    "---\n",
    "\n",
    "## Pooling Layers\n",
    "\n",
    "### What is Pooling?\n",
    "\n",
    "Pooling is a **downsampling operation** that reduces the spatial size (i.e., length) of the feature maps while keeping the most important information. It helps with:\n",
    "\n",
    "- **Reducing computation**\n",
    "- **Improving generalization**\n",
    "- **Making the network more robust to small shifts or noise**\n",
    "\n",
    "### Types of Pooling\n",
    "\n",
    "| Type       | Operation                          | Example                        |\n",
    "|------------|------------------------------------|--------------------------------|\n",
    "| Max Pool   | Takes the maximum in a window      | `[1, 5, 3] → max = 5`          |\n",
    "| Avg Pool   | Takes the average in a window      | `[1, 5, 3] → avg = 3`          |\n",
    "| Global Pool| Reduces entire signal to one value | Useful before dense layers     |\n",
    "\n",
    "\n",
    "![Pooling](https://epynn.net/_images/pool-01.svg)"
   ]
  },
  {
   "cell_type": "markdown",
   "id": "c5fab5af",
   "metadata": {},
   "source": [
    "A pooling layer (e.g., `nn.MaxPool1d`) is defined by:\n",
    "\n",
    "```python\n",
    "nn.MaxPool1d(kernel_size, stride)\n",
    "```\n",
    "\n",
    "- **kernel_size**: Size of the pooling window.\n",
    "- **stride**: Step size to move the window. Default is `stride = kernel_size`."
   ]
  },
  {
   "cell_type": "markdown",
   "id": "dbedf219",
   "metadata": {},
   "source": [
    "Given input of shape `(batch_size, channels, L_in)`, pooling reduces the length to:\n",
    "```\n",
    "L_out = floor((L_in - kernel_size) / stride) + 1\n",
    "```\n",
    "The number of channels remains the same.\n"
   ]
  },
  {
   "cell_type": "markdown",
   "id": "46eadbf0",
   "metadata": {},
   "source": [
    "### Combining Activation and Pooling\n",
    "\n",
    "A common sequence in CNNs is:\n",
    "\n",
    "1. **Convolution** \n",
    "2. **Activation** (e.g., ReLU)  \n",
    "3. **Linear**\n",
    "4. **Pooling** (e.g., MaxPool1d)\n",
    "\n",
    "This pattern is repeated in layers to progressively extract and condense features:\n",
    "\n",
    "```python\n",
    "x = conv1d(x)\n",
    "x = relu(x)\n",
    "x = linear(x)\n",
    "x = maxpool1d(x)\n",
    "```\n",
    "\n",
    "Each step contributes to learning increasingly abstract representations while reducing the signal size.\n",
    "\n"
   ]
  },
  {
   "cell_type": "code",
   "execution_count": null,
   "id": "e0d36757",
   "metadata": {},
   "outputs": [
    {
     "name": "stdout",
     "output_type": "stream",
     "text": [
      "Final output shape: torch.Size([8, 8])\n"
     ]
    }
   ],
   "source": [
    "# Example: Full sequence - Conv1d, Activation, Dense Layer, Pooling\n",
    "import torch\n",
    "import torch.nn as nn\n",
    "\n",
    "x = torch.randn(8, 4, 50)\n",
    "conv = nn.Conv1d(4, 8, kernel_size=3)\n",
    "relu = nn.ReLU()\n",
    "lin = nn.Linear(8 * 48, 16)     # 8 channels * (50 - 3 + 1) = 8 * 48\n",
    "pool = nn.MaxPool1d(kernel_size=2)\n",
    "\n",
    "out = conv(x)\n",
    "out = relu(out)\n",
    "out = out.view(out.size(0), -1) # Flatten for dense layer\n",
    "out = lin(out)\n",
    "out = pool(out)\n",
    "\n",
    "print('Final output shape:', out.shape)"
   ]
  },
  {
   "cell_type": "markdown",
   "id": "b370acc3",
   "metadata": {},
   "source": [
    "## Summary\n",
    "\n",
    "* **Channels**: parallel feature sequences (axis after batch).\n",
    "* **Signal length**: spatial dimension scanned by filters.\n",
    "* **Filters**: learnable weight sets of shape `(C_out, C_in, K)`.\n",
    "* **Biases**: one per filter to shift activations.\n",
    "* **Output**: tensor of shape `(batch_size, C_out, L_out)`.\n",
    "* **Activation functions** introduce non-linearity and are applied after convolutions.\n",
    "* **ReLU** is the default choice in most CNN architectures.\n",
    "* **Pooling layers** reduce signal length, improving efficiency and robustness. Pooling is applied per channel and does not mix information across channels.\n",
    "\n",
    "This sequence - convolution → activation → pooling — is standard to building CNN architectures.\n"
   ]
  },
  {
   "cell_type": "markdown",
   "id": "91c8cdf7",
   "metadata": {},
   "source": [
    "---\n",
    "\n",
    "## Embeddings and Latent Space in Neural Networks\n",
    "\n",
    "### What is an Embedding?\n",
    "\n",
    "An **embedding** is a learned, low-dimensional representation of high-dimensional data. In neural networks, especially autoencoders, the embedding is the output of the network's bottleneck (the layer with the smallest number of neurons). This compact vector captures the most salient features of the input data.\n",
    "\n",
    "### The Latent Space\n",
    "\n",
    "The **latent space** is the space of all possible embeddings. Each point in this space corresponds to a compressed version of an input sample. The structure of the latent space reflects the relationships and similarities between different inputs as learned by the network.\n",
    "\n",
    "For example, in an autoencoder trained on RDFs (radial distribution functions) of metal nanoclusters, each RDF is mapped to a point in the latent space. Similar RDFs (e.g., from similar cluster structures) will be close together, while very different RDFs will be far apart.\n",
    "\n",
    "### Why Use Low-Dimensional Representations?\n",
    "\n",
    "* **Visualization:** Reducing complex, high-dimensional data to 2D or 3D allows us to visualize patterns, clusters, and outliers.\n",
    "* **Noise Reduction:** The network learns to ignore irrelevant details, focusing on the most important features.\n",
    "* **Data Compression:** Storing or transmitting the embedding is much more efficient than the full input.\n",
    "* **Downstream Tasks:** Embeddings can be used as input features for classification, clustering, or regression tasks, often improving performance and interpretability.\n",
    "\n",
    "### Embedding Metal Nanocluster RDFs\n",
    "\n",
    "Radial Distribution Functions (RDFs) are one of many ways of analyzing the structure of metal nanoclusters. Although they can serve as informative structural identifiers, RDFs are often high-dimensional and difficult to interpret directly.\n",
    "\n",
    "By training an autoencoder, we can map each RDF to a low-dimensional embedding (e.g., 2D or 3D), making it possible to:\n",
    "\n",
    "* **Cluster similar structures:** Nanoclusters with similar atomic arrangements produce similar RDFs and are mapped to nearby points in the latent space.\n",
    "* **Detect anomalies:** Outliers in the latent space may correspond to rare, unstable, or defective structures.\n",
    "* **Visualize structure-property relationships:** By coloring embeddings according to physical properties (e.g., energy, radius of gyration), we can uncover how structure correlates with function.\n",
    "* **Identify collective variables:** These learned embeddings can serve as collective variables in biased molecular dynamics simulations, improving sampling of structural transitions and rare events."
   ]
  },
  {
   "cell_type": "markdown",
   "id": "d39f04db",
   "metadata": {},
   "source": [
    "### Summary\n",
    "\n",
    "* **Embeddings** provide a compact, information-rich summary of complex data.\n",
    "* **Latent space** structure reveals relationships, clusters, and anomalies in the data.\n",
    "* For metal nanocluster RDFs, low-dimensional embeddings enable visualization, clustering, and improved analysis of structural diversity."
   ]
  },
  {
   "cell_type": "markdown",
   "id": "cba77a1c",
   "metadata": {},
   "source": [
    "---\n",
    "\n",
    "## How Training Works: Encoding, Decoding, Targets, and Loss Functions\n",
    "\n",
    "Training a neural network (including autoencoders) is an iterative process where the model learns to map inputs to desired outputs by adjusting its internal weights. Here’s how the process works step by step:\n",
    "\n",
    "1. **Forward Pass:**\n",
    "   - The input data is passed through the network (encoder and decoder for autoencoders).\n",
    "   - The decoder reconstructs the input from the compressed embedding (latent space).\n",
    "\n",
    "2. **Targets:**\n",
    "   - For autoencoders, the target is usually the original input itself (the network tries to reconstruct what it saw).\n",
    "   - For other tasks (e.g., classification), the target would be a label or value.\n",
    "\n",
    "3. **Loss Function:**\n",
    "   - The loss function measures how different the network’s output (prediction) is from the target.\n",
    "   - Common loss for autoencoders: **Mean Squared Error (MSE)**, which penalizes large differences between the input and its reconstruction.\n",
    "\n",
    "4. **Backward Pass (Backpropagation):**\n",
    "   - The network computes gradients of the loss with respect to each weight.\n",
    "   - These gradients indicate how to change the weights to reduce the loss.\n",
    "\n",
    "5. **Optimizer Step:**\n",
    "   - The optimizer (e.g., Adam, SGD) updates the weights using the gradients.\n",
    "\n",
    "6. **Repeat:**\n",
    "   - This process is repeated for many epochs (passes over the data), gradually improving the network’s performance.\n",
    "\n",
    "### Visual Summary\n",
    "\n",
    "```\n",
    "  Input → [Encoder] → Embedding → [Decoder] → Output  \n",
    "     |__________________________________________|     \n",
    "                   Target (for loss)                  \n",
    "```\n",
    "\n",
    "The loss function compares the output to the target and guides the network to improve its reconstruction (or prediction) ability."
   ]
  },
  {
   "cell_type": "markdown",
   "id": "597ad6a6",
   "metadata": {},
   "source": [
    "---\n",
    "\n",
    "## End-to-End Example: Training and Visualizing a Simple Autoencoder Embedding\n",
    "\n",
    "This example shows how to train the simple autoencoder on random (dummy) RDF data, extract the 2D embeddings, and visualize the latent space. Replace the dummy data with your real RDF dataset for actual use."
   ]
  },
  {
   "cell_type": "code",
   "execution_count": 4,
   "id": "686dc0e9",
   "metadata": {},
   "outputs": [],
   "source": [
    "import torch\n",
    "import torch.nn as nn\n",
    "import torch.optim as optim\n",
    "import matplotlib.pyplot as plt\n",
    "import numpy as np\n",
    "\n",
    "# --- Define the simple autoencoder (from previous cell) ---\n",
    "class SimpleAutoencoder(nn.Module):\n",
    "    def __init__(self, input_dim, latent_dim=2):\n",
    "        super().__init__()\n",
    "        self.encoder = nn.Sequential(\n",
    "            nn.Linear(input_dim, 64),\n",
    "            nn.ReLU(),\n",
    "            nn.Linear(64, 32),\n",
    "            nn.ReLU(),\n",
    "            nn.Linear(32, latent_dim)\n",
    "        )\n",
    "        self.decoder = nn.Sequential(\n",
    "            nn.Linear(latent_dim, 32),\n",
    "            nn.ReLU(),\n",
    "            nn.Linear(32, 64),\n",
    "            nn.ReLU(),\n",
    "            nn.Linear(64, input_dim)\n",
    "        )\n",
    "    def forward(self, x):\n",
    "        embed = self.encoder(x)\n",
    "        recon = self.decoder(embed)\n",
    "        return recon, embed"
   ]
  },
  {
   "cell_type": "code",
   "execution_count": 5,
   "id": "fbc7c957",
   "metadata": {},
   "outputs": [],
   "source": [
    "# --- Generate synthetic data with well-scattered clusters ---\n",
    "input_dim = 100\n",
    "latent_dim = 2\n",
    "n_samples = 300\n",
    "n_clusters = 3\n",
    "samples_per_cluster = n_samples // n_clusters\n",
    "\n",
    "X_list = []\n",
    "labels = []\n",
    "np.random.seed(42)  # For reproducibility\n",
    "for i in range(n_clusters):\n",
    "    # Each cluster is a Gaussian cloud\n",
    "    center = np.random.randn(input_dim) * 10 + i\n",
    "    cluster_data = np.random.randn(samples_per_cluster, input_dim) * 8 + center\n",
    "    X_list.append(cluster_data)\n",
    "    labels.extend([i] * samples_per_cluster)\n",
    "\n",
    "X = np.vstack(X_list)\n",
    "labels = np.array(labels)\n",
    "\n",
    "# Convert to torch tensors\n",
    "X = torch.tensor(X, dtype=torch.float32)\n",
    "labels = torch.tensor(labels, dtype=torch.int64)"
   ]
  },
  {
   "cell_type": "code",
   "execution_count": 9,
   "id": "3e9799b2",
   "metadata": {},
   "outputs": [
    {
     "name": "stdout",
     "output_type": "stream",
     "text": [
      "Epoch 20, Mean Loss: 78.6755\n",
      "Epoch 40, Mean Loss: 62.1976\n",
      "Epoch 60, Mean Loss: 62.0317\n",
      "Epoch 80, Mean Loss: 61.8469\n",
      "Epoch 100, Mean Loss: 61.7007\n"
     ]
    }
   ],
   "source": [
    "# --- Train the autoencoder ---\n",
    "model = SimpleAutoencoder(input_dim, latent_dim)\n",
    "optimizer = optim.Adam(model.parameters(), lr=1e-3)\n",
    "loss_fn = nn.MSELoss()\n",
    "\n",
    "n_epochs = 100\n",
    "batch_size = 50\n",
    "\n",
    "for epoch in range(n_epochs):\n",
    "    perm = torch.randperm(n_samples)\n",
    "    batch_losses = []\n",
    "\n",
    "    for i in range(0, n_samples, batch_size):\n",
    "        idx = perm[i:i+batch_size]\n",
    "        x_batch = X[idx]\n",
    "        recon, _ = model(x_batch)\n",
    "        loss = loss_fn(recon, x_batch)\n",
    "        optimizer.zero_grad()\n",
    "        loss.backward()\n",
    "        optimizer.step()\n",
    "        batch_losses.append(loss.item())\n",
    "\n",
    "    # Print every 20 epochs using the mean loss\n",
    "    if (epoch + 1) % 20 == 0:\n",
    "        mean_loss = sum(batch_losses) / len(batch_losses)\n",
    "        print(f\"Epoch {epoch + 1}, Mean Loss: {mean_loss:.4f}\")\n"
   ]
  },
  {
   "cell_type": "code",
   "execution_count": 10,
   "id": "d30a2e2c",
   "metadata": {},
   "outputs": [
    {
     "data": {
      "image/png": "[encoded data removed]",
      "text/plain": [
       "<Figure size 600x500 with 2 Axes>"
      ]
     },
     "metadata": {},
     "output_type": "display_data"
    }
   ],
   "source": [
    "# --- Extract embeddings ---\n",
    "model.eval()\n",
    "with torch.no_grad():\n",
    "    _, embeddings = model(X)\n",
    "embeddings = embeddings.numpy()\n",
    "\n",
    "# --- Visualize the 2D embedding space ---\n",
    "plt.figure(figsize=(6,5))\n",
    "plt.scatter(embeddings[:,0], embeddings[:,1], c=labels, cmap='viridis', s=20)\n",
    "plt.xlabel('Latent dim 1')\n",
    "plt.ylabel('Latent dim 2')\n",
    "plt.title('Latent space of synthetic clusters (scattered)')\n",
    "plt.colorbar(label='Cluster label')\n",
    "plt.show()"
   ]
  },
  {
   "cell_type": "markdown",
   "id": "0ab51166",
   "metadata": {},
   "source": [
    "# Extra learning material\n",
    "\n",
    "### Visualizing concepts:\n",
    "- [Gentle dive into the maths](https://medium.com/data-science/gentle-dive-into-math-behind-convolutional-neural-networks-79a07dd44cf9)\n",
    "- [CNNS for dummies](https://medium.com/@prathammodi001/convolutional-neural-networks-for-dummies-a-step-by-step-cnn-tutorial-e68f464d608f)\n",
    "\n",
    "### Hands-on implementation examples\n",
    "- [Autoencoder in PyTorch with CUDA](https://github.com/E008001/Autoencoder-in-Pytorch)\n",
    "- [Friendly and well-explained tutorial](https://www.digitalocean.com/community/tutorials/convolutional-autoencoder)\n",
    "- [Very complete tutorial](https://pyimagesearch.com/2023/07/17/implementing-a-convolutional-autoencoder-with-pytorch/)"
   ]
  },
  {
   "cell_type": "markdown",
   "id": "f3da6da6",
   "metadata": {},
   "source": []
  }
 ],
 "metadata": {
  "kernelspec": {
   "display_name": ".venv",
   "language": "python",
   "name": "python3"
  },
  "language_info": {
   "codemirror_mode": {
    "name": "ipython",
    "version": 3
   },
   "file_extension": ".py",
   "mimetype": "text/x-python",
   "name": "python",
   "nbconvert_exporter": "python",
   "pygments_lexer": "ipython3",
   "version": "3.11.12"
  }
 },
 "nbformat": 4,
 "nbformat_minor": 5
}
